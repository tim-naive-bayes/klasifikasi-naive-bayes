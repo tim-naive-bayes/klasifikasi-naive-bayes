{
 "cells": [
  {
   "cell_type": "markdown",
   "metadata": {},
   "source": [
    "### K-means1"
   ]
  },
  {
   "cell_type": "code",
   "execution_count": null,
   "metadata": {},
   "outputs": [],
   "source": [
    "def create_kmeans_mask(image):\n",
    "    # Reshape the image to a 2D array of pixels and 3 color values (RGB)\n",
    "    pixel_vals = image.reshape((-1, 3))\n",
    "\n",
    "    # Convert to float type\n",
    "    pixel_vals = np.float32(pixel_vals)\n",
    "\n",
    "    # Define criteria for algorithm termination\n",
    "    criteria = (cv2.TERM_CRITERIA_EPS + cv2.TERM_CRITERIA_MAX_ITER, 100, 0.85)\n",
    "\n",
    "    # Perform k-means clustering\n",
    "    k = 5\n",
    "    _, labels, centers = cv2.kmeans(pixel_vals, k, None, criteria, 10, cv2.KMEANS_RANDOM_CENTERS)\n",
    "\n",
    "    # Convert data into 8-bit values\n",
    "    centers = np.uint8(centers)\n",
    "    segmented_data = centers[labels.flatten()]\n",
    "\n",
    "    # Reshape data into the original image dimensions\n",
    "    segmented_image = segmented_data.reshape(image.shape)\n",
    "\n",
    "    # Convert to grayscale\n",
    "    gray = cv2.cvtColor(segmented_image, cv2.COLOR_RGB2GRAY)\n",
    "\n",
    "    # Apply thresholding to create binary image\n",
    "    _, binary_image = cv2.threshold(gray, 127, 255, cv2.THRESH_BINARY)\n",
    "\n",
    "    return binary_image"
   ]
  },
  {
   "cell_type": "code",
   "execution_count": null,
   "metadata": {},
   "outputs": [
    {
     "name": "stderr",
     "output_type": "stream",
     "text": [
      "Processing bercak_daun: 100%|██████████| 45/45 [00:04<00:00,  9.42it/s]\n",
      "Processing daun_berkerut: 100%|██████████| 45/45 [00:04<00:00,  9.23it/s]\n",
      "Processing daun_berputar: 100%|██████████| 45/45 [00:05<00:00,  8.85it/s]\n",
      "Processing daun_menggulung: 100%|██████████| 45/45 [00:05<00:00,  8.89it/s]\n",
      "Processing daun_menguning: 100%|██████████| 45/45 [00:04<00:00,  9.00it/s]\n"
     ]
    }
   ],
   "source": [
    "# Example usage\n",
    "kmeans_images = batch_process_images(lab_images, create_kmeans_mask)"
   ]
  },
  {
   "cell_type": "markdown",
   "metadata": {},
   "source": [
    "### K-means2"
   ]
  },
  {
   "cell_type": "code",
   "execution_count": null,
   "metadata": {},
   "outputs": [],
   "source": [
    "def create_kmeans_mask_sklearn(image):\n",
    "    # Reshape the image to a 2D array of pixels and 3 color values (RGB)\n",
    "    pixel_vals = image.reshape((-1, 3))\n",
    "\n",
    "    # Convert to float type\n",
    "    pixel_vals = np.float32(pixel_vals)\n",
    "\n",
    "    # Perform k-means clustering\n",
    "    k = 10\n",
    "    kmeans = KMeans(n_clusters=k, random_state=42, n_init=10)\n",
    "    kmeans.fit(pixel_vals)\n",
    "\n",
    "    # Get the labels and cluster centers\n",
    "    labels = kmeans.labels_\n",
    "    centers = kmeans.cluster_centers_\n",
    "\n",
    "    # Convert data into 8-bit values\n",
    "    centers = np.uint8(centers)\n",
    "    segmented_data = centers[labels.flatten()]\n",
    "\n",
    "    # Reshape data into the original image dimensions\n",
    "    segmented_image = segmented_data.reshape(image.shape)\n",
    "\n",
    "    # Convert to grayscale\n",
    "    gray = cv2.cvtColor(segmented_image, cv2.COLOR_RGB2GRAY)\n",
    "\n",
    "    # Apply thresholding to create binary image\n",
    "    _, binary_image = cv2.threshold(gray, 127, 255, cv2.THRESH_BINARY)\n",
    "\n",
    "    return binary_image"
   ]
  },
  {
   "cell_type": "code",
   "execution_count": null,
   "metadata": {},
   "outputs": [
    {
     "name": "stderr",
     "output_type": "stream",
     "text": [
      "Processing bercak_daun: 100%|██████████| 45/45 [00:26<00:00,  1.67it/s]\n",
      "Processing daun_berkerut: 100%|██████████| 45/45 [00:26<00:00,  1.72it/s]\n",
      "Processing daun_berputar: 100%|██████████| 45/45 [00:27<00:00,  1.62it/s]\n",
      "Processing daun_menggulung: 100%|██████████| 45/45 [00:25<00:00,  1.77it/s]\n",
      "Processing daun_menguning: 100%|██████████| 45/45 [00:25<00:00,  1.76it/s]\n"
     ]
    }
   ],
   "source": [
    "# Example usage\n",
    "kmeans2_images = batch_process_images(lab_images, create_kmeans_mask_sklearn)"
   ]
  },
  {
   "cell_type": "markdown",
   "metadata": {},
   "source": [
    "### K-means5"
   ]
  },
  {
   "cell_type": "code",
   "execution_count": null,
   "metadata": {},
   "outputs": [],
   "source": [
    "def create_main_leaf_mask(image_lab):\n",
    "    # Reshape the image to a 2D array of pixels and 3 color values (LAB)\n",
    "    pixel_vals = image_lab.reshape((-1, 3))\n",
    "\n",
    "    # Perform k-means clustering\n",
    "    k = 3  # Increased to 3 clusters for better separation\n",
    "    kmeans = KMeans(n_clusters=k, random_state=42, n_init=10)\n",
    "    kmeans.fit(pixel_vals)\n",
    "\n",
    "    # Get the labels and cluster centers\n",
    "    labels = kmeans.labels_\n",
    "    centers = kmeans.cluster_centers_\n",
    "\n",
    "    # Convert centers to uint8\n",
    "    centers = np.uint8(centers)\n",
    "\n",
    "    # Create segmented image\n",
    "    segmented_image = centers[labels.reshape(image_lab.shape[:2])]\n",
    "\n",
    "    # Convert back to BGR color space for visualization (if needed)\n",
    "    segmented_bgr = cv2.cvtColor(segmented_image, cv2.COLOR_LAB2BGR)\n",
    "\n",
    "    # Create masks for each cluster\n",
    "    masks = [np.all(segmented_image == center, axis=2) for center in centers]\n",
    "\n",
    "    # Find the mask with the largest connected component\n",
    "    largest_mask = None\n",
    "    largest_area = 0\n",
    "\n",
    "    for mask in masks:\n",
    "        # Convert bool mask to uint8\n",
    "        mask_uint8 = mask.astype(np.uint8) * 255\n",
    "        \n",
    "        # Find connected components\n",
    "        num_labels, labels, stats, _ = cv2.connectedComponentsWithStats(mask_uint8, connectivity=8)\n",
    "        \n",
    "        # Skip the background label (0)\n",
    "        for label in range(1, num_labels):\n",
    "            area = stats[label, cv2.CC_STAT_AREA]\n",
    "            if area > largest_area:\n",
    "                largest_area = area\n",
    "                largest_mask = (labels == label).astype(np.uint8) * 255\n",
    "\n",
    "    # Apply morphological operations to clean up the mask\n",
    "    kernel = np.ones((5,5), np.uint8)\n",
    "    largest_mask = cv2.morphologyEx(largest_mask, cv2.MORPH_CLOSE, kernel, iterations=2)\n",
    "    largest_mask = cv2.morphologyEx(largest_mask, cv2.MORPH_OPEN, kernel, iterations=2)\n",
    "\n",
    "    return largest_mask\n"
   ]
  },
  {
   "cell_type": "code",
   "execution_count": null,
   "metadata": {},
   "outputs": [
    {
     "name": "stderr",
     "output_type": "stream",
     "text": [
      "Processing bercak_daun: 100%|██████████| 45/45 [00:07<00:00,  6.06it/s]\n",
      "Processing daun_berkerut: 100%|██████████| 45/45 [00:07<00:00,  6.27it/s]\n",
      "Processing daun_berputar: 100%|██████████| 45/45 [00:06<00:00,  6.45it/s]\n",
      "Processing daun_menggulung: 100%|██████████| 45/45 [00:06<00:00,  6.56it/s]\n",
      "Processing daun_menguning: 100%|██████████| 45/45 [00:06<00:00,  6.60it/s]\n"
     ]
    }
   ],
   "source": [
    "# Example usage\n",
    "kmeans5_images = batch_process_images(lab_images, create_main_leaf_mask)"
   ]
  }
 ],
 "metadata": {
  "language_info": {
   "name": "python"
  }
 },
 "nbformat": 4,
 "nbformat_minor": 2
}

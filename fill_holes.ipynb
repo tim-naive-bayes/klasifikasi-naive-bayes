{
 "cells": [
  {
   "cell_type": "code",
   "execution_count": null,
   "metadata": {},
   "outputs": [],
   "source": [
    "def fill_holes(mask):\n",
    "    \"\"\"\n",
    "    Fill holes in the mask using morphological operations.\n",
    "    \n",
    "    Args:\n",
    "    - mask (numpy.ndarray): Binary mask.\n",
    "    \n",
    "    Returns:\n",
    "    - numpy.ndarray: Mask with holes filled.\n",
    "    \"\"\"\n",
    "    kernel = np.ones((5,5), np.uint8)\n",
    "    filled_mask = cv2.morphologyEx(mask, cv2.MORPH_CLOSE, kernel)\n",
    "    filled_mask = cv2.morphologyEx(filled_mask, cv2.MORPH_OPEN, kernel)\n",
    "    return filled_mask"
   ]
  },
  {
   "cell_type": "code",
   "execution_count": null,
   "metadata": {},
   "outputs": [
    {
     "name": "stderr",
     "output_type": "stream",
     "text": [
      "Processing bercak_daun: 100%|██████████| 45/45 [00:00<00:00, 8997.65it/s]\n",
      "Processing daun_berkerut: 100%|██████████| 45/45 [00:00<00:00, 7498.16it/s]\n",
      "Processing daun_berputar: 100%|██████████| 45/45 [00:00<00:00, 8997.65it/s]\n",
      "Processing daun_menggulung: 100%|██████████| 45/45 [00:00<00:00, 7499.05it/s]\n",
      "Processing daun_menguning: 100%|██████████| 45/45 [00:00<00:00, 8998.51it/s]\n"
     ]
    }
   ],
   "source": [
    "# Example usage\n",
    "filled_holes_images = batch_process_images(kmeans_images, fill_holes)"
   ]
  },
  {
   "cell_type": "code",
   "execution_count": null,
   "metadata": {},
   "outputs": [],
   "source": [
    "def fill_holes2(mask):\n",
    "    \"\"\"\n",
    "    Fill holes in the mask using flood fill method.\n",
    "    \n",
    "    Args:\n",
    "    - mask (numpy.ndarray): Binary mask.\n",
    "    \n",
    "    Returns:\n",
    "    - numpy.ndarray: Mask with holes filled.\n",
    "    \"\"\"\n",
    "    # Invert the mask\n",
    "    inv_mask = cv2.bitwise_not(mask)\n",
    "    \n",
    "    # Create a larger mask to ensure we flood from the borders\n",
    "    h, w = mask.shape[:2]\n",
    "    larger_mask = np.zeros((h+2, w+2), np.uint8)\n",
    "    \n",
    "    # Flood fill from the top-left corner\n",
    "    cv2.floodFill(inv_mask, larger_mask, (0,0), 255)\n",
    "    \n",
    "    # Invert the result again\n",
    "    filled_mask = cv2.bitwise_not(inv_mask)\n",
    "    \n",
    "    return filled_mask"
   ]
  },
  {
   "cell_type": "code",
   "execution_count": null,
   "metadata": {},
   "outputs": [
    {
     "name": "stderr",
     "output_type": "stream",
     "text": [
      "Processing bercak_daun: 100%|██████████| 45/45 [00:00<00:00, 3213.92it/s]\n",
      "Processing daun_berkerut: 100%|██████████| 45/45 [00:00<00:00, 7500.84it/s]\n",
      "Processing daun_berputar: 100%|██████████| 45/45 [00:00<00:00, 7493.40it/s]\n",
      "Processing daun_menggulung: 100%|██████████| 45/45 [00:00<00:00, 7494.29it/s]\n",
      "Processing daun_menguning: 100%|██████████| 45/45 [00:00<00:00, 8996.79it/s]\n"
     ]
    }
   ],
   "source": [
    "# Example usage\n",
    "filled_holes_images2 = batch_process_images(kmeans_images, fill_holes2)"
   ]
  }
 ],
 "metadata": {
  "language_info": {
   "name": "python"
  }
 },
 "nbformat": 4,
 "nbformat_minor": 2
}
